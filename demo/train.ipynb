{
 "cells": [
  {
   "cell_type": "code",
   "execution_count": 1,
   "id": "1af5c72f-5026-44c5-a188-4941ddcc3f92",
   "metadata": {},
   "outputs": [],
   "source": [
    "model_type = 'smpl_h'\n",
    "\n",
    "import sys\n",
    "sys.path.insert(0, \"../main/transformer_utils\")\n",
    "sys.path.insert(0, \"../main\")\n",
    "\n",
    "\n",
    "import argparse\n",
    "from config import cfg\n",
    "import torch.backends.cudnn as cudnn\n",
    "\n",
    "\n",
    "\n",
    "\n",
    "\n"
   ]
  },
  {
   "cell_type": "code",
   "execution_count": 2,
   "id": "c24993b6-3bd5-498f-a37a-17a806d15fd7",
   "metadata": {},
   "outputs": [
    {
     "name": "stdout",
     "output_type": "stream",
     "text": [
      "WARNING: You are using a SMPL+H model, with only 10 shape coefficients.\n",
      "WARNING: You are using a SMPL+H model, with only 10 shape coefficients.\n",
      "WARNING: You are using a SMPL+H model, with only 10 shape coefficients.\n",
      "WARNING: You are using a SMPL+H model, with only 10 shape coefficients.\n",
      "WARNING: You are using a SMPL+H model, with only 10 shape coefficients.\n",
      "WARNING: You are using a SMPL+H model, with only 10 shape coefficients.\n",
      ">>> Using GPU: 0\n"
     ]
    },
    {
     "name": "stderr",
     "output_type": "stream",
     "text": [
      "/home/x_hensh/.local/lib/python3.10/site-packages/mmcv/__init__.py:20: UserWarning: On January 1, 2023, MMCV will release v2.0.0, in which it will remove components related to the training process and add a data transformation module. In addition, it will rename the package names mmcv to mmcv-lite and mmcv-full to mmcv. See https://github.com/open-mmlab/mmcv/blob/master/docs/en/compatibility.md for more details.\n",
      "  warnings.warn(\n",
      "/home/x_hensh/.local/lib/python3.10/site-packages/timm/models/layers/__init__.py:48: FutureWarning: Importing from timm.models.layers is deprecated, please import via timm.layers\n",
      "  warnings.warn(f\"Importing from {__name__} is deprecated, please import via timm.layers\", FutureWarning)\n",
      "\u001b[92m02-08 17:05:41\u001b[0m Creating dataset...\n"
     ]
    },
    {
     "name": "stdout",
     "output_type": "stream",
     "text": [
      "loading annotations into memory...\n",
      "Done (t=0.18s)\n",
      "creating index...\n",
      "index created!\n"
     ]
    },
    {
     "name": "stderr",
     "output_type": "stream",
     "text": [
      "\u001b[92m02-08 17:05:41\u001b[0m Creating graph and optimizer...\n"
     ]
    },
    {
     "name": "stdout",
     "output_type": "stream",
     "text": [
      "Initialize backbone from ../pretrained_models/osx_vit_l.pth\n"
     ]
    },
    {
     "name": "stderr",
     "output_type": "stream",
     "text": [
      "\u001b[92m02-08 17:05:50\u001b[0m Load checkpoint from ../output/train_smil/model_dump/snapshot_90.pth.tar\n"
     ]
    }
   ],
   "source": [
    "        \n",
    "        \n",
    "if model_type == 'smpl_h':\n",
    "    from common.utils.human_models import smpl_h as smpl\n",
    "elif model_type == 'smpl_x':\n",
    "    from common.utils.human_models import smpl_x as smpl\n",
    "elif model_type == 'smil_h':\n",
    "    from common.utils.human_models import smil_h as smpl\n",
    "else:\n",
    "    raise NotImplementedError()\n",
    "\n",
    "gpu_ids = '0'\n",
    "lr = 1e-4\n",
    "continue_train = True\n",
    "end_epoch=140\n",
    "exp_name='../output/train_demo/'\n",
    "num_thread=8\n",
    "train_batch_size=16\n",
    "encoder_setting='osx_l'\n",
    "decoder_setting='normal'\n",
    "pretrained_model_path=\"../output/train_smil/model_dump/snapshot_90.pth.tar\"\n",
    "agora_benchmark=False\n",
    "ubody_benchmark=False\n",
    "ima_benchmark=True\n",
    "model_type=model_type\n",
    "\n",
    "cfg.set_args(gpu_ids, lr, continue_train)\n",
    "cfg.set_additional_args(\n",
    "    exp_name=exp_name,\n",
    "    num_thread=num_thread, \n",
    "    train_batch_size=train_batch_size,\n",
    "    encoder_setting=encoder_setting,\n",
    "    decoder_setting=decoder_setting,\n",
    "    end_epoch=end_epoch,\n",
    "    pretrained_model_path=pretrained_model_path,\n",
    "    agora_benchmark=agora_benchmark,\n",
    "    ubody_benchmark=ubody_benchmark,\n",
    "    ima_benchmark=ima_benchmark,\n",
    "    model_type=model_type\n",
    ")\n",
    "cudnn.benchmark = True\n",
    "from common.base import Trainer\n",
    "trainer = Trainer()\n",
    "trainer._make_batch_generator()\n",
    "trainer._make_model(smpl)\n",
    "\n",
    "\n",
    "\n"
   ]
  },
  {
   "cell_type": "code",
   "execution_count": null,
   "id": "ce2afbca-9aa7-4722-b31c-1cc9f0253f6b",
   "metadata": {},
   "outputs": [],
   "source": [
    "\n",
    "(inputs, targets, meta_info) = next(iter(trainer.batch_generator))\n"
   ]
  },
  {
   "cell_type": "code",
   "execution_count": null,
   "id": "7561325e-41aa-4b92-aaa7-7d2da0a09c77",
   "metadata": {},
   "outputs": [],
   "source": [
    "#print (inputs)\n",
    "out = trainer.model(inputs, targets, meta_info, 'train')"
   ]
  },
  {
   "cell_type": "code",
   "execution_count": null,
   "id": "2178fd56-4719-4d56-916c-76c94f746b3d",
   "metadata": {},
   "outputs": [],
   "source": [
    "print (out.keys())"
   ]
  },
  {
   "cell_type": "code",
   "execution_count": null,
   "id": "4e36bb51-6607-47f8-9bbf-55115231d1b1",
   "metadata": {},
   "outputs": [],
   "source": [
    "mesh = out['smplx_mesh_cam']#.cpu().numpy()\n",
    "points = out['joint_cam_tr']#.cpu().numpy()\n",
    "debug_img = out['debug_img']#.cpu().numpy()\n",
    "debug_silhouette = out['debug_silhouette']#.cpu().numpy()\n",
    "debug_joint_proj = out['debug_joint_proj']#.cpu().numpy()\n",
    "debug_rendered = out['debug_rendered']#.cpu().numpy()\n"
   ]
  },
  {
   "cell_type": "code",
   "execution_count": null,
   "id": "d0365fe4-c282-4342-9ad8-4bbe6c3a8218",
   "metadata": {},
   "outputs": [],
   "source": [
    "batch_size = mesh.shape[0]\n",
    "import matplotlib.pyplot as plt\n",
    "fig, ax = plt.subplots(10,3, figsize=(15,15))\n",
    "\n",
    "samplid = 1\n",
    "print (debug_rendered.shape)\n",
    "for i in range(10):\n",
    "    ax[i,0].imshow(debug_img[samplid,...].permute([1,2,0]).cpu().numpy()[...,::-1])\n",
    "    ax[i,1].imshow(debug_silhouette[samplid,:,:,3].detach().cpu().numpy())\n",
    "    ax[i,2].imshow(debug_rendered[samplid,...].detach().cpu().numpy()[...,::-1])\n",
    "plt.show()\n"
   ]
  },
  {
   "cell_type": "code",
   "execution_count": null,
   "id": "82c48452-57d9-4b13-aae8-65e873fc68ca",
   "metadata": {},
   "outputs": [],
   "source": []
  },
  {
   "cell_type": "code",
   "execution_count": null,
   "id": "00b3d526-28b2-4ebd-aca2-f9ed1ddc6999",
   "metadata": {},
   "outputs": [],
   "source": []
  },
  {
   "cell_type": "code",
   "execution_count": null,
   "id": "2fb8ab03-6a9e-4abb-bd04-41b82ed15643",
   "metadata": {},
   "outputs": [],
   "source": []
  },
  {
   "cell_type": "code",
   "execution_count": null,
   "id": "81258fb3-4a54-458d-a243-3d0a53718d02",
   "metadata": {},
   "outputs": [],
   "source": []
  }
 ],
 "metadata": {
  "kernelspec": {
   "display_name": "Python 3 (ipykernel)",
   "language": "python",
   "name": "python3"
  },
  "language_info": {
   "codemirror_mode": {
    "name": "ipython",
    "version": 3
   },
   "file_extension": ".py",
   "mimetype": "text/x-python",
   "name": "python",
   "nbconvert_exporter": "python",
   "pygments_lexer": "ipython3",
   "version": "3.10.0"
  }
 },
 "nbformat": 4,
 "nbformat_minor": 5
}
